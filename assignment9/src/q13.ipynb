{
 "cells": [
  {
   "cell_type": "code",
   "execution_count": null,
   "metadata": {},
   "outputs": [
    {
     "name": "stdout",
     "output_type": "stream",
     "text": [
      "Experiment with vocabulary size: 1000, max_len: 500\n"
     ]
    },
    {
     "name": "stderr",
     "output_type": "stream",
     "text": [
      "/home/rongfei/miniconda3/envs/ml/lib/python3.12/site-packages/keras/src/layers/core/embedding.py:90: UserWarning: Argument `input_length` is deprecated. Just remove it.\n",
      "  warnings.warn(\n"
     ]
    },
    {
     "name": "stdout",
     "output_type": "stream",
     "text": [
      "\u001b[1m782/782\u001b[0m \u001b[32m━━━━━━━━━━━━━━━━━━━━\u001b[0m\u001b[37m\u001b[0m \u001b[1m8s\u001b[0m 11ms/step\n",
      "Experiment with vocabulary size: 3000, max_len: 500\n"
     ]
    },
    {
     "name": "stderr",
     "output_type": "stream",
     "text": [
      "/home/rongfei/miniconda3/envs/ml/lib/python3.12/site-packages/keras/src/layers/core/embedding.py:90: UserWarning: Argument `input_length` is deprecated. Just remove it.\n",
      "  warnings.warn(\n"
     ]
    },
    {
     "name": "stdout",
     "output_type": "stream",
     "text": [
      "\u001b[1m782/782\u001b[0m \u001b[32m━━━━━━━━━━━━━━━━━━━━\u001b[0m\u001b[37m\u001b[0m \u001b[1m8s\u001b[0m 10ms/step\n",
      "Experiment with vocabulary size: 5000, max_len: 500\n"
     ]
    },
    {
     "name": "stderr",
     "output_type": "stream",
     "text": [
      "/home/rongfei/miniconda3/envs/ml/lib/python3.12/site-packages/keras/src/layers/core/embedding.py:90: UserWarning: Argument `input_length` is deprecated. Just remove it.\n",
      "  warnings.warn(\n"
     ]
    },
    {
     "name": "stdout",
     "output_type": "stream",
     "text": [
      "\u001b[1m782/782\u001b[0m \u001b[32m━━━━━━━━━━━━━━━━━━━━\u001b[0m\u001b[37m\u001b[0m \u001b[1m6s\u001b[0m 8ms/step\n",
      "Experiment with vocabulary size: 10000, max_len: 500\n"
     ]
    },
    {
     "name": "stderr",
     "output_type": "stream",
     "text": [
      "/home/rongfei/miniconda3/envs/ml/lib/python3.12/site-packages/keras/src/layers/core/embedding.py:90: UserWarning: Argument `input_length` is deprecated. Just remove it.\n",
      "  warnings.warn(\n"
     ]
    },
    {
     "name": "stdout",
     "output_type": "stream",
     "text": [
      "\u001b[1m782/782\u001b[0m \u001b[32m━━━━━━━━━━━━━━━━━━━━\u001b[0m\u001b[37m\u001b[0m \u001b[1m9s\u001b[0m 11ms/step\n",
      "\n",
      "\n",
      "Summary of Results:\n",
      "Vocab Size   Max Len    Accuracy   F1 Score   Time (s)  \n",
      "-----------------------------------------------------------------\n"
     ]
    },
    {
     "ename": "KeyError",
     "evalue": "'training_time'",
     "output_type": "error",
     "traceback": [
      "\u001b[0;31m---------------------------------------------------------------------------\u001b[0m",
      "\u001b[0;31mKeyError\u001b[0m                                  Traceback (most recent call last)",
      "\u001b[1;32m/home/rongfei/WorkSpace/ds5220/assignment9/src/q13.ipynb Cell 1\u001b[0m line \u001b[0;36m6\n\u001b[1;32m     <a href='vscode-notebook-cell://wsl%2Bubuntu/home/rongfei/WorkSpace/ds5220/assignment9/src/q13.ipynb#X13sdnNjb2RlLXJlbW90ZQ%3D%3D?line=61'>62</a>\u001b[0m \u001b[39mprint\u001b[39m(\u001b[39m\"\u001b[39m\u001b[39m-\u001b[39m\u001b[39m\"\u001b[39m \u001b[39m*\u001b[39m \u001b[39m65\u001b[39m)\n\u001b[1;32m     <a href='vscode-notebook-cell://wsl%2Bubuntu/home/rongfei/WorkSpace/ds5220/assignment9/src/q13.ipynb#X13sdnNjb2RlLXJlbW90ZQ%3D%3D?line=63'>64</a>\u001b[0m \u001b[39mfor\u001b[39;00m r \u001b[39min\u001b[39;00m results:\n\u001b[1;32m     <a href='vscode-notebook-cell://wsl%2Bubuntu/home/rongfei/WorkSpace/ds5220/assignment9/src/q13.ipynb#X13sdnNjb2RlLXJlbW90ZQ%3D%3D?line=64'>65</a>\u001b[0m     \u001b[39mprint\u001b[39m(\u001b[39mf\u001b[39m\u001b[39m\"\u001b[39m\u001b[39m{\u001b[39;00mr[\u001b[39m'\u001b[39m\u001b[39mvocab_size\u001b[39m\u001b[39m'\u001b[39m]\u001b[39m:\u001b[39;00m\u001b[39m<12\u001b[39m\u001b[39m}\u001b[39;00m\u001b[39m \u001b[39m\u001b[39m{\u001b[39;00mr[\u001b[39m'\u001b[39m\u001b[39mmax_len\u001b[39m\u001b[39m'\u001b[39m]\u001b[39m:\u001b[39;00m\u001b[39m<10\u001b[39m\u001b[39m}\u001b[39;00m\u001b[39m \u001b[39m\u001b[39m{\u001b[39;00mr[\u001b[39m'\u001b[39m\u001b[39maccuracy\u001b[39m\u001b[39m'\u001b[39m]\u001b[39m:\u001b[39;00m\u001b[39m<10.4f\u001b[39m\u001b[39m}\u001b[39;00m\u001b[39m \u001b[39m\u001b[39m\"\u001b[39m\n\u001b[0;32m---> <a href='vscode-notebook-cell://wsl%2Bubuntu/home/rongfei/WorkSpace/ds5220/assignment9/src/q13.ipynb#X13sdnNjb2RlLXJlbW90ZQ%3D%3D?line=65'>66</a>\u001b[0m           \u001b[39mf\u001b[39m\u001b[39m\"\u001b[39m\u001b[39m{\u001b[39;00mr[\u001b[39m'\u001b[39m\u001b[39mf1_score\u001b[39m\u001b[39m'\u001b[39m]\u001b[39m:\u001b[39;00m\u001b[39m<10.4f\u001b[39m\u001b[39m}\u001b[39;00m\u001b[39m \u001b[39m\u001b[39m{\u001b[39;00mr[\u001b[39m'\u001b[39m\u001b[39mtraining_time\u001b[39m\u001b[39m'\u001b[39m]\u001b[39m:\u001b[39;00m\u001b[39m<10.1f\u001b[39m\u001b[39m}\u001b[39;00m\u001b[39m\"\u001b[39m)\n",
      "\u001b[0;31mKeyError\u001b[0m: 'training_time'"
     ]
    }
   ],
   "source": [
    "import tensorflow as tf\n",
    "from keras.datasets import imdb\n",
    "from keras.preprocessing.sequence import pad_sequences\n",
    "from sklearn.metrics import classification_report, accuracy_score\n",
    "\n",
    "def experiment_vocab_size(vocab_size, max_len=500, epochs=3):\n",
    "    print(f\"Experiment with vocabulary size: {vocab_size}, max_len: {max_len}\")\n",
    "    (x_train, y_train), (x_test, y_test) = imdb.load_data(num_words=vocab_size)\n",
    "    \n",
    "    x_train_padded = pad_sequences(x_train, maxlen=max_len)\n",
    "    x_test_padded = pad_sequences(x_test, maxlen=max_len)\n",
    "    \n",
    "    model = tf.keras.Sequential([\n",
    "        tf.keras.layers.Embedding(input_dim=vocab_size, \n",
    "                                 output_dim=32,  # embedding dimension\n",
    "                                 input_length=max_len),\n",
    "        tf.keras.layers.LSTM(units=32),\n",
    "        tf.keras.layers.Dense(1, activation='sigmoid')\n",
    "    ])\n",
    "    \n",
    "    model.compile(optimizer='adam',\n",
    "                 loss='binary_crossentropy',\n",
    "                 metrics=['accuracy'])\n",
    "    \n",
    "    model.fit(\n",
    "        x_train_padded, y_train,\n",
    "        epochs=epochs,\n",
    "        batch_size=64,\n",
    "        validation_split=0.2,\n",
    "        verbose=0\n",
    "    )\n",
    "    \n",
    "    y_pred = model.predict(x_test_padded)\n",
    "    y_pred_classes = (y_pred > 0.5).astype(int).flatten()\n",
    "    \n",
    "    accuracy = accuracy_score(y_test, y_pred_classes)\n",
    "    \n",
    "    cr = classification_report(y_test, y_pred_classes, output_dict=True)\n",
    "    \n",
    "    return {\n",
    "        'vocab_size': vocab_size,\n",
    "        'max_len': max_len,\n",
    "        'accuracy': accuracy,\n",
    "        'precision': cr['weighted avg']['precision'],\n",
    "        'recall': cr['weighted avg']['recall'],\n",
    "        'f1_score': cr['weighted avg']['f1-score'],\n",
    "    }\n",
    "\n",
    "# Run experiments with different vocabulary sizes\n",
    "vocab_sizes = [1000, 3000, 5000, 10000]\n",
    "max_lengths = [500]\n",
    "\n",
    "results = []\n",
    "\n",
    "for vocab_size in vocab_sizes:\n",
    "    for max_len in max_lengths:\n",
    "        result = experiment_vocab_size(vocab_size, max_len)\n",
    "        results.append(result)\n"
   ]
  },
  {
   "cell_type": "code",
   "execution_count": 21,
   "metadata": {},
   "outputs": [
    {
     "name": "stdout",
     "output_type": "stream",
     "text": [
      "\n",
      "\n",
      "Summary of Results:\n",
      "Vocab Size   Accuracy   F1 Score  \n",
      "-----------------------------------------------------------------\n",
      "1000        0.8599     0.8595    \n",
      "3000        0.8746     0.8745    \n",
      "5000        0.8673     0.8669    \n",
      "10000       0.8578     0.8570    \n"
     ]
    }
   ],
   "source": [
    "\n",
    "print(\"\\n\\nSummary of Results:\")\n",
    "print(f\"{'Vocab Size':<12} {'Accuracy':<10} {'F1 Score':<10}\")\n",
    "print(\"-\" * 65)\n",
    "\n",
    "for r in results:\n",
    "    print(f\"{r['vocab_size']:<12}{r['accuracy']:<10.4f} \"\n",
    "          f\"{r['f1_score']:<10.4f}\")"
   ]
  }
 ],
 "metadata": {
  "language_info": {
   "name": "python"
  }
 },
 "nbformat": 4,
 "nbformat_minor": 2
}
